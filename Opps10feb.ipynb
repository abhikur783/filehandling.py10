{
 "cells": [
  {
   "cell_type": "code",
   "execution_count": null,
   "id": "41bfe265-404c-43c2-964e-169ef9705ba0",
   "metadata": {},
   "outputs": [],
   "source": [
    "#Q1. Which function is used to open a file? What are the different modes of opening a file? Explain each mode\n",
    "#of file opening.\n",
    "Ans : In Python, the open() function is used to open a file. It takes two arguments: the path to the file and the\n",
    "      mode in which the file should be opened. The syntax of the open() function is as follows:\n",
    "        \n",
    "    file = open(filename, mode)\n",
    "    \n",
    "There are several modes in which a file can be opened in Python. These modes are as follows:\n",
    "\n",
    "1).\"r\" (Read mode): This mode is used to open a file for reading. If the file does not exist, an error will be raised. This is\n",
    "    the default mode when a file is opened without specifying a mode.\n",
    "\n",
    "2).\"w\" (Write mode): This mode is used to open a file for writing. If the file already exists, its contents will be truncated. \n",
    "     If the file does not exist, a new file will be created.\n",
    "\n",
    "3).\"a\" (Append mode): This mode is used to open a file for appending. If the file already exists, data will be written at the end of the file.  \n",
    "     If the file does not exist, a new file will be created.\n",
    "\n",
    "4)\"x\" (Exclusive mode): This mode is used to open a file for exclusive creation. If the file already exists, an error will be raised.\n",
    "\n",
    "5)\"b\" (Binary mode): This mode is used to open a file in binary mode. In this mode, data is read and written in bytes.\n",
    "\n",
    "6)\"t\" (Text mode): This mode is used to open a file in text mode. In this mode, data is read and written in strings.\n",
    "\n",
    " These modes can be combined by specifying them as a string. For example, \"rb\" can be used to open a file in binary mode for reading, \n",
    "      while \"w+\" can be used to open a file for both reading and writing.\n",
    "\n",
    "\n",
    "\n",
    "\n",
    "\n"
   ]
  },
  {
   "cell_type": "code",
   "execution_count": null,
   "id": "71ce2800-53ed-4535-a647-db9fae8893b8",
   "metadata": {},
   "outputs": [],
   "source": [
    "#Q2. Why close() function is used? Why is it important to close a file?\n",
    "Ans:In Python, the close() function is used to close a file that was previously opened using the open() function. \n",
    "    The syntax of the close() function is as follows:\n",
    "    \n",
    "    file.close()\n",
    "    \n",
    "    It is important to close a file after you are done working with it because it frees up system resources that were being used to keep the file open.\n",
    "When you open a file, the operating system allocates resources to keep track of the file, such as memory and file descriptors.\n",
    "If you don't close the file when you are finished with it, these resources will remain allocated, which can lead to problems like running \n",
    "out of memory or exceeding the maximum number of open files.\n",
    "\n",
    "Closing a file also ensures that any data that has been written to the file is actually saved to disk. When you write data to a file,\n",
    "it is first stored in a buffer in memory. The operating system will periodically flush this buffer to disk to ensure that the data is\n",
    "actually written to the file. However, if you don't close the file, there is no guarantee that the buffer will be flushed,\n",
    "which means that the data you wrote may not actually be saved.\n",
    "\n",
    "In addition to freeing up system resources and ensuring that data is saved, closing a file can also prevent other programs from accessing the file.\n",
    "When a file is opened, it may be locked by the operating system, which prevents other programs from modifying it. If you don't close the file,\n",
    "the lock may remain in place, which can prevent other programs from accessing the file.\n",
    "\n",
    "\n",
    "\n",
    "\n"
   ]
  },
  {
   "cell_type": "code",
   "execution_count": null,
   "id": "aa9168a2-afe7-4ef0-8dd5-a77d8409c84e",
   "metadata": {},
   "outputs": [],
   "source": [
    "Q3. Write a python program to create a text file. Write ‘I want to become a Data Scientist’ in that file. Then\n",
    "close the file. Open this file and read the content of the file.\n",
    "\n",
    "Ans: Here is a Python program to create a text file named data_scientist.txt, write the text \"I want to become a Data Scientist\" into the file, \n",
    "     and then read the content of the file:"
   ]
  },
  {
   "cell_type": "code",
   "execution_count": 2,
   "id": "13ef69bc-dd67-4cc5-88af-ebc2f2a8c4dc",
   "metadata": {},
   "outputs": [
    {
     "name": "stdout",
     "output_type": "stream",
     "text": [
      "I want to become a Data Scientist\n"
     ]
    }
   ],
   "source": [
    "# Open the file in write mode\n",
    "with open(\"data_scientist.txt\", \"w\") as file:\n",
    "    # Write the text to the file\n",
    "    file.write(\"I want to become a Data Scientist\")\n",
    "\n",
    "# Open the file in read mode\n",
    "with open(\"data_scientist.txt\", \"r\") as file:\n",
    "    # Read the content of the file\n",
    "    content = file.read()\n",
    "    print(content)\n"
   ]
  },
  {
   "cell_type": "code",
   "execution_count": null,
   "id": "026ec88a-4d0a-46a0-87a8-36b1ef5b4d4d",
   "metadata": {},
   "outputs": [],
   "source": [
    "In the first with block, the file is opened in write mode using the open() function, and assigned to the file variable.\n",
    "The write() method is used to write the text \"I want to become a Data Scientist\" to the file.\n",
    "\n",
    "In the second with block, the file is opened in read mode using the open() function, and assigned to the file variable. \n",
    "The read() method is used to read the content of the file and store it in the content variable. Finally, \n",
    "the content of the file is printed to the console using the print() function."
   ]
  },
  {
   "cell_type": "code",
   "execution_count": null,
   "id": "30d22c9b-8bf8-430d-ab15-658a262cb0c2",
   "metadata": {},
   "outputs": [],
   "source": [
    "Q4. Explain the following with python code: read(), readline() and readlines().\n",
    "\n",
    "In Python, the read(), readline(), and readlines() methods are used to read data from a file. Here is an explanation\n",
    "of each method along with some example code:\n",
    "\n",
    "read(): This method reads the entire contents of the file as a single string. The syntax is:"
   ]
  },
  {
   "cell_type": "code",
   "execution_count": 66,
   "id": "0398acb9-ca02-4140-a131-6bab8e34b95e",
   "metadata": {},
   "outputs": [
    {
     "name": "stdout",
     "output_type": "stream",
     "text": [
      "I want to become a Data Scientist\n",
      ".i am student of bca second year\n",
      ".i am from Buxar.\n"
     ]
    }
   ],
   "source": [
    "# Open the file in write mode\n",
    "with open(\"data_scientist.txt\", \"w\") as file:\n",
    "    # Write the text to the file\n",
    "    file.write(\"I want to become a Data Scientist\\n.i am student of bca second year\\n.i am from Buxar.\")\n",
    "\n",
    "# Open the file in read mode\n",
    "with open(\"data_scientist.txt\", \"r\") as file:\n",
    "    # Read the content of the file\n",
    "    content = file.read()\n",
    "    print(content)\n"
   ]
  },
  {
   "cell_type": "code",
   "execution_count": 67,
   "id": "35b7ae8d-e37d-4086-90f2-463ae1fc2a62",
   "metadata": {},
   "outputs": [],
   "source": [
    "f=open(\"data_scientist.txt\")"
   ]
  },
  {
   "cell_type": "code",
   "execution_count": 68,
   "id": "4d753dc6-9a7a-4b3f-91e0-039a35d82dea",
   "metadata": {},
   "outputs": [
    {
     "data": {
      "text/plain": [
       "<_io.TextIOWrapper name='data_scientist.txt' mode='r' encoding='UTF-8'>"
      ]
     },
     "execution_count": 68,
     "metadata": {},
     "output_type": "execute_result"
    }
   ],
   "source": [
    "f"
   ]
  },
  {
   "cell_type": "code",
   "execution_count": 70,
   "id": "b63177ad-6443-4383-8feb-c19ef99970cd",
   "metadata": {},
   "outputs": [
    {
     "data": {
      "text/plain": [
       "'ant to become a Data Scientist\\n.i am student of bca second year\\n.i am from Buxar.'"
      ]
     },
     "execution_count": 70,
     "metadata": {},
     "output_type": "execute_result"
    }
   ],
   "source": [
    "f.read()"
   ]
  },
  {
   "cell_type": "code",
   "execution_count": 71,
   "id": "80a5039f-67ff-4166-b017-5ad8bd80b31a",
   "metadata": {},
   "outputs": [],
   "source": [
    "f.close()"
   ]
  },
  {
   "cell_type": "code",
   "execution_count": 72,
   "id": "fb24f37d-10a7-4dd6-aaee-79a99ee85ea6",
   "metadata": {},
   "outputs": [],
   "source": [
    "f=open(\"data_scientist.txt\")"
   ]
  },
  {
   "cell_type": "code",
   "execution_count": 73,
   "id": "ec4e1d80-1114-4af5-96b4-a7ebdb5430cd",
   "metadata": {},
   "outputs": [
    {
     "data": {
      "text/plain": [
       "'I wan'"
      ]
     },
     "execution_count": 73,
     "metadata": {},
     "output_type": "execute_result"
    }
   ],
   "source": [
    "f.read(5)"
   ]
  },
  {
   "cell_type": "code",
   "execution_count": null,
   "id": "38114afa-dd32-4130-8101-6ff245d7dbd0",
   "metadata": {},
   "outputs": [],
   "source": [
    "NOTE: The \"read()\": This method reads the entire contents of the file as a single string.\n",
    "\"read()\"will be read full file at once and move the file pointer at the end.\n",
    "\"read(n)\",will read n bytes from it's current position.\n",
    "    "
   ]
  },
  {
   "cell_type": "code",
   "execution_count": 55,
   "id": "b10bf3a7-358b-471a-aac0-fb3df0c057c2",
   "metadata": {},
   "outputs": [
    {
     "name": "stdout",
     "output_type": "stream",
     "text": [
      "I want to become a Data Scientist\n",
      "i am student of bca second year\n",
      ".i am from Buxar.\n"
     ]
    }
   ],
   "source": [
    "# Open the file in write mode\n",
    "with open(\"data_scientist.txt\", \"w\") as file:\n",
    "    # Write the text to the file\n",
    "    file.write(\"I want to become a Data Scientist\\n\"\"i am student of bca second year\\n.i am from Buxar.\")\n",
    "\n",
    "# Open the file in read mode\n",
    "with open(\"data_scientist.txt\", \"r\") as file:\n",
    "    # Read the content of the file\n",
    "    content = file.read()\n",
    "    print(content)\n"
   ]
  },
  {
   "cell_type": "code",
   "execution_count": 42,
   "id": "41701826-4a8b-4c34-8c49-23ac3a151298",
   "metadata": {},
   "outputs": [],
   "source": [
    "f=open(\"data_scientist.txt\")"
   ]
  },
  {
   "cell_type": "code",
   "execution_count": 43,
   "id": "67250ac3-1361-43ce-a01f-543f9d730fa5",
   "metadata": {},
   "outputs": [
    {
     "data": {
      "text/plain": [
       "<_io.TextIOWrapper name='data_scientist.txt' mode='r' encoding='UTF-8'>"
      ]
     },
     "execution_count": 43,
     "metadata": {},
     "output_type": "execute_result"
    }
   ],
   "source": [
    "f"
   ]
  },
  {
   "cell_type": "code",
   "execution_count": 44,
   "id": "1153321e-d7b2-4a38-9722-6190543bab03",
   "metadata": {},
   "outputs": [
    {
     "data": {
      "text/plain": [
       "'I want to become a Data Scientist\\n'"
      ]
     },
     "execution_count": 44,
     "metadata": {},
     "output_type": "execute_result"
    }
   ],
   "source": [
    "f.readline()"
   ]
  },
  {
   "cell_type": "code",
   "execution_count": 45,
   "id": "4db32990-d0eb-4206-8d76-019c1b739c75",
   "metadata": {},
   "outputs": [],
   "source": [
    "f.close()"
   ]
  },
  {
   "cell_type": "code",
   "execution_count": 63,
   "id": "256393c9-afef-4291-93ac-f5c415b9f561",
   "metadata": {},
   "outputs": [],
   "source": [
    "f=open(\"data_scientist.txt\")"
   ]
  },
  {
   "cell_type": "code",
   "execution_count": 64,
   "id": "eadf3cb7-195a-46c7-9e5d-9f5c57e1ceab",
   "metadata": {},
   "outputs": [
    {
     "data": {
      "text/plain": [
       "'I wa'"
      ]
     },
     "execution_count": 64,
     "metadata": {},
     "output_type": "execute_result"
    }
   ],
   "source": [
    "f.readline(4)"
   ]
  },
  {
   "cell_type": "code",
   "execution_count": 65,
   "id": "f1e88946-98fa-46da-b62b-0bd811a06b9b",
   "metadata": {},
   "outputs": [],
   "source": [
    "f.close()"
   ]
  },
  {
   "cell_type": "code",
   "execution_count": null,
   "id": "56c7e81a-88b8-4618-bbdb-bc52cdf14049",
   "metadata": {},
   "outputs": [],
   "source": [
    "NOTE: The \"readline()\": This method reads a single line from the file.\n",
    "\"readline()\" reads one line at a time .It searches \"\\n\" and read the file till\"\\n\".\n",
    "if I use \"readline(n)\" , then it read the n bytes or upto \"\\n\"(whichever comes first) from current position."
   ]
  },
  {
   "cell_type": "code",
   "execution_count": 55,
   "id": "712e814a-1f9e-4029-8c4e-e538264972d3",
   "metadata": {},
   "outputs": [
    {
     "name": "stdout",
     "output_type": "stream",
     "text": [
      "I want to become a Data Scientist\n",
      "i am student of bca second year\n",
      ".i am from Buxar.\n"
     ]
    }
   ],
   "source": [
    "# Open the file in write mode\n",
    "with open(\"data_scientist.txt\", \"w\") as file:\n",
    "    # Write the text to the file\n",
    "    file.write(\"I want to become a Data Scientist\\n\"\"i am student of bca second year\\n.i am from Buxar.\")\n",
    "\n",
    "# Open the file in read mode\n",
    "with open(\"data_scientist.txt\", \"r\") as file:\n",
    "    # Read the content of the file\n",
    "    content = file.read()\n",
    "    print(content)\n"
   ]
  },
  {
   "cell_type": "code",
   "execution_count": 56,
   "id": "bab6eb17-a769-480d-9c60-29e229809c33",
   "metadata": {},
   "outputs": [],
   "source": [
    "f = open(\"data_scientist.txt\")"
   ]
  },
  {
   "cell_type": "code",
   "execution_count": 57,
   "id": "976dcbbb-4aba-4010-978c-4beb45d290ea",
   "metadata": {},
   "outputs": [
    {
     "data": {
      "text/plain": [
       "['I want to become a Data Scientist\\n',\n",
       " 'i am student of bca second year\\n',\n",
       " '.i am from Buxar.']"
      ]
     },
     "execution_count": 57,
     "metadata": {},
     "output_type": "execute_result"
    }
   ],
   "source": [
    "f.readlines()"
   ]
  },
  {
   "cell_type": "code",
   "execution_count": 60,
   "id": "e415fe43-874c-4c1c-a886-22262035ff70",
   "metadata": {},
   "outputs": [],
   "source": [
    "f.close()"
   ]
  },
  {
   "cell_type": "code",
   "execution_count": 61,
   "id": "8baa0ef0-6a74-4fe6-9d1e-c4683b328b8d",
   "metadata": {},
   "outputs": [],
   "source": [
    "f = open(\"data_scientist.txt\")"
   ]
  },
  {
   "cell_type": "code",
   "execution_count": 62,
   "id": "a97e70e0-e644-40d2-8bae-865a13a9855f",
   "metadata": {},
   "outputs": [
    {
     "data": {
      "text/plain": [
       "['I want to become a Data Scientist\\n']"
      ]
     },
     "execution_count": 62,
     "metadata": {},
     "output_type": "execute_result"
    }
   ],
   "source": [
    "f.readlines(4)"
   ]
  },
  {
   "cell_type": "code",
   "execution_count": null,
   "id": "8828e42b-7f6b-42f6-93bd-0ad1990edb83",
   "metadata": {},
   "outputs": [],
   "source": [
    "NOTE :The \"readlines()\" method returns a list of strings, where each string represents a single line from the file. \n",
    "The strings include the newline character \\n at the end of each line.\n",
    "\"readlines()\", read all the lines in the list.\n",
    "\"readlines(n)\",reads all the lines where nth bytes is present ."
   ]
  },
  {
   "cell_type": "code",
   "execution_count": null,
   "id": "520f275d-9c96-4936-acae-720c3cf3b5d6",
   "metadata": {},
   "outputs": [],
   "source": [
    "Q5. Explain why with statement is used with open(). What is the advantage of using with statement and\n",
    "open() together?\n",
    "\n",
    "The with statement is used in Python in conjunction with file I/O operations like open() to ensure that resources (such as file handles)\n",
    "are automatically released when the block of code under the with statement has completed.\n",
    "\n",
    "The with statement is used with open() to open a file and create a context in which the file is available for use. \n",
    "When the block of code under the with statement is completed or an exception occurs, the file is automatically closed and its resources are freed.\n",
    "\n",
    "Here is an example of opening a file using with and open():"
   ]
  },
  {
   "cell_type": "code",
   "execution_count": 83,
   "id": "68e51574-32f5-4be7-9226-b9fbeb21652b",
   "metadata": {},
   "outputs": [
    {
     "name": "stdout",
     "output_type": "stream",
     "text": [
      "I want to become a Data Scientist\n",
      "i am student of bca second year\n",
      ".i am from Buxar.\n",
      "False\n"
     ]
    }
   ],
   "source": [
    "# Open the file in write mode\n",
    "with open(\"data_scientist.txt\", \"w\") as file:\n",
    "    # Write the text to the file\n",
    "    file.write(\"I want to become a Data Scientist\\n\"\"i am student of bca second year\\n.i am from Buxar.\")\n",
    "\n",
    "# Open the file in read mode\n",
    "with open(\"data_scientist.txt\", \"r\") as file:\n",
    "    \n",
    "    # Read the content of the file\n",
    "    data = file.read()\n",
    "    \n",
    "    print(data)\n",
    "    \n",
    "    print(file.closed)\n"
   ]
  },
  {
   "cell_type": "code",
   "execution_count": 82,
   "id": "f6a4d169-ff21-4707-b894-a2fad99d71ee",
   "metadata": {},
   "outputs": [
    {
     "name": "stdout",
     "output_type": "stream",
     "text": [
      "True\n"
     ]
    }
   ],
   "source": [
    "print(file.closed)"
   ]
  },
  {
   "cell_type": "code",
   "execution_count": null,
   "id": "041762ab-4773-4920-ac27-f1e3950c8041",
   "metadata": {},
   "outputs": [],
   "source": [
    "In this example, the file is opened in read mode, and its contents are read into the data variable. When the block of code is\n",
    "completed, the file is automatically closed, even if an exception occurs.\n",
    "\n",
    "The advantage of using with and open() together is that it ensures that the file is always closed, even if an exception is raised. \n",
    "This makes the code more robust and reduces the likelihood of resource leaks. Additionally, using with and open() together can lead to more \n",
    "concise code, as you don't have to explicitly call close() on the file handle."
   ]
  },
  {
   "cell_type": "code",
   "execution_count": null,
   "id": "543e2478-c96d-433d-9dff-e5de60b41d0c",
   "metadata": {},
   "outputs": [],
   "source": [
    "Q6. Explain the write() and writelines() functions. Give a suitable example."
   ]
  },
  {
   "cell_type": "code",
   "execution_count": null,
   "id": "ab667c32-0f63-42e4-baa5-783c622fec1b",
   "metadata": {},
   "outputs": [],
   "source": [
    "The write() and writelines() functions are used in Python to write data to a file.\n",
    "\n",
    "The write() function is used to write a single string to a file. The syntax for write() is as follows:\n",
    "\n",
    "file.write(string)\n",
    "\n",
    "Here, file is the file object and string is the string that needs to be written to the file. The write() function writes the \n",
    "string to the file and returns the number of characters written."
   ]
  },
  {
   "cell_type": "code",
   "execution_count": 103,
   "id": "72ca1965-2659-41eb-a644-adafaa7215d7",
   "metadata": {},
   "outputs": [
    {
     "name": "stdout",
     "output_type": "stream",
     "text": [
      "I want to become a Data Scientist\n",
      "i am student of bca second year\n",
      "i am from Buxar\n"
     ]
    }
   ],
   "source": [
    "\n",
    "# Open the file in write mode\n",
    "with open(\"data_scientist.txt\", \"w\") as file:\n",
    "    # Write the text to the file\n",
    "    file.write(\"I want to become a Data Scientist\\n\"\"i am student of bca second year\\n\"\"i am from Buxar\")\n",
    "\n",
    "# Open the file in read mode\n",
    "with open(\"data_scientist.txt\", \"r\") as file:\n",
    "    # Read the content of the file\n",
    "    content = file.read()\n",
    "    print(content)\n"
   ]
  },
  {
   "cell_type": "code",
   "execution_count": null,
   "id": "762f4838-3d10-4e5d-b6fb-b3e01a4107a9",
   "metadata": {},
   "outputs": [],
   "source": [
    "The writelines() function, on the other hand, is used to write a list of strings to a file. The syntax for writelines() is as follows:\n",
    "\n",
    "file.writelines(list_of_strings)\n",
    "\n",
    "Here, file is the file object and list_of_strings is a list of strings that need to be written to the file. The writelines() function writes\n",
    "each string in the list to the file and returns nothing.\n",
    "\n",
    "Example:"
   ]
  },
  {
   "cell_type": "code",
   "execution_count": 101,
   "id": "29939680-e882-4dc1-83da-fa3043f81acb",
   "metadata": {},
   "outputs": [
    {
     "name": "stdout",
     "output_type": "stream",
     "text": [
      "I want to become a Data Scientist\n",
      "i am student of bca second year\n",
      "i am from Buxar\n",
      "\n"
     ]
    }
   ],
   "source": [
    "\n",
    "# Open the file in write mode\n",
    "with open(\"data_scientist.txt\", \"w\") as file:\n",
    "    # Write the text to the file\n",
    "    list=[\"I want to become a Data Scientist\\n\",\"i am student of bca second year\\n\",\"i am from Buxar\\n\"]\n",
    "    file.writelines(list)\n",
    "\n",
    "# Open the file in read mode\n",
    "with open(\"data_scientist.txt\", \"r\") as file:\n",
    "    # Read the content of the file\n",
    "    content = file.read()\n",
    "    print(content)\n"
   ]
  },
  {
   "cell_type": "code",
   "execution_count": null,
   "id": "b0980f03-8abd-41ea-a7a2-e245a9ade886",
   "metadata": {},
   "outputs": [],
   "source": []
  }
 ],
 "metadata": {
  "kernelspec": {
   "display_name": "Python 3 (ipykernel)",
   "language": "python",
   "name": "python3"
  },
  "language_info": {
   "codemirror_mode": {
    "name": "ipython",
    "version": 3
   },
   "file_extension": ".py",
   "mimetype": "text/x-python",
   "name": "python",
   "nbconvert_exporter": "python",
   "pygments_lexer": "ipython3",
   "version": "3.10.8"
  }
 },
 "nbformat": 4,
 "nbformat_minor": 5
}
